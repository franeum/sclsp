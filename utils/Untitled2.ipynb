{
 "cells": [
  {
   "cell_type": "code",
   "execution_count": 2,
   "id": "8bede3cf-c9d7-482c-b361-604bfde74ee2",
   "metadata": {},
   "outputs": [],
   "source": [
    "import subprocess"
   ]
  },
  {
   "cell_type": "code",
   "execution_count": 126,
   "id": "75fb566e-5526-4b1d-9fdc-4514e72ec0a9",
   "metadata": {},
   "outputs": [],
   "source": [
    "testclasses = ['Object',\n",
    "'HighShelf',\n",
    "'RBJHighShelf',\n",
    "'FlowVar',\n",
    "'ZLPF']"
   ]
  },
  {
   "cell_type": "code",
   "execution_count": 136,
   "id": "5fd1934d-1cc9-430e-80f3-ae8de0407e76",
   "metadata": {},
   "outputs": [
    {
     "name": "stdout",
     "output_type": "stream",
     "text": [
      "====================================================================================================\n",
      "NEW COMMAND\n",
      "----------------------------------------------------------------------------------------------------\n",
      "CLASS Object\n",
      "['dependantsDictionary', 'uniqueMethods', 'new', 'newCopyArgs', 'initClass', 'prNew', 'prNewCopyArgs', 'readArchive', 'readTextArchive', 'readBinaryArchive', 'implClass']\n",
      "----------------------------------------------------------------------------------------------------\n",
      "END\n",
      "====================================================================================================\n",
      "====================================================================================================\n",
      "NEW COMMAND\n",
      "----------------------------------------------------------------------------------------------------\n",
      "CLASS HighShelf\n",
      "['ar']\n",
      "----------------------------------------------------------------------------------------------------\n",
      "END\n",
      "====================================================================================================\n",
      "====================================================================================================\n",
      "NEW COMMAND\n",
      "----------------------------------------------------------------------------------------------------\n",
      "CLASS RBJHighShelf\n",
      "[]\n",
      "----------------------------------------------------------------------------------------------------\n",
      "END\n",
      "====================================================================================================\n",
      "====================================================================================================\n",
      "NEW COMMAND\n",
      "----------------------------------------------------------------------------------------------------\n",
      "CLASS FlowVar\n",
      "['new']\n",
      "----------------------------------------------------------------------------------------------------\n",
      "END\n",
      "====================================================================================================\n",
      "====================================================================================================\n",
      "NEW COMMAND\n",
      "----------------------------------------------------------------------------------------------------\n",
      "CLASS ZLPF\n",
      "['ar']\n",
      "----------------------------------------------------------------------------------------------------\n",
      "END\n",
      "====================================================================================================\n"
     ]
    }
   ],
   "source": [
    "from subprocess import PIPE, Popen\n",
    "import time\n",
    "\n",
    "fw = open(\"tmpout\", \"wb\")\n",
    "fr = open(\"tmpout\", \"r\")\n",
    "\n",
    "p = Popen(\"sclang\", stdin=PIPE, stdout=fw, bufsize=1, universal_newlines=True)\n",
    "\n",
    "time.sleep(1)\n",
    "\n",
    "header = fr.read()\n",
    "\n",
    "for c in testclasses:\n",
    "    print(\"=\" * 100)\n",
    "    print(\"NEW COMMAND\")\n",
    "    print(\"-\" * 100)\n",
    "    \n",
    "    start = p.stdin.write(c+\".class.methods.do({|i| i.name.postln;})\\n\")\n",
    "    #res = fr.read()[start:]\n",
    "    #print(res[:res.index('->')].split('\\n'))\n",
    "    #print(res)\n",
    "    time.sleep(0.125)\n",
    "    #print(fr.read())\n",
    "    res = fr.read()[start:]\n",
    "    print('CLASS', c)\n",
    "    print(res[:res.index('->')].split('\\n')[:-1])\n",
    "\n",
    "    print(\"-\" * 100)\n",
    "    print(\"END\")\n",
    "    print(\"=\" * 100)\n",
    "    \n",
    "    #time.sleep(1)\n",
    "\n",
    "p.kill()"
   ]
  },
  {
   "cell_type": "code",
   "execution_count": 116,
   "id": "250d510b-ce95-4e82-b302-3d14817bece1",
   "metadata": {},
   "outputs": [],
   "source": [
    "fw.close()\n",
    "fr.close()"
   ]
  },
  {
   "cell_type": "code",
   "execution_count": 106,
   "id": "e4c00382-b821-464e-a52d-b820bc46f3be",
   "metadata": {},
   "outputs": [
    {
     "data": {
      "text/plain": [
       "\u001b[0;31mSignature:\u001b[0m \u001b[0mp\u001b[0m\u001b[0;34m.\u001b[0m\u001b[0mkill\u001b[0m\u001b[0;34m(\u001b[0m\u001b[0;34m)\u001b[0m\u001b[0;34m\u001b[0m\u001b[0;34m\u001b[0m\u001b[0m\n",
       "\u001b[0;31mDocstring:\u001b[0m\n",
       "Kill the process with SIGKILL\n",
       "            \n",
       "\u001b[0;31mFile:\u001b[0m      ~/anaconda3/lib/python3.12/subprocess.py\n",
       "\u001b[0;31mType:\u001b[0m      method"
      ]
     },
     "metadata": {},
     "output_type": "display_data"
    }
   ],
   "source": [
    "p.kill?"
   ]
  }
 ],
 "metadata": {
  "kernelspec": {
   "display_name": "Python 3 (ipykernel)",
   "language": "python",
   "name": "python3"
  },
  "language_info": {
   "codemirror_mode": {
    "name": "ipython",
    "version": 3
   },
   "file_extension": ".py",
   "mimetype": "text/x-python",
   "name": "python",
   "nbconvert_exporter": "python",
   "pygments_lexer": "ipython3",
   "version": "3.12.7"
  }
 },
 "nbformat": 4,
 "nbformat_minor": 5
}
