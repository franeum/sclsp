{
 "cells": [
  {
   "cell_type": "markdown",
   "id": "12456690-a6b0-4280-9c61-fa3994b05418",
   "metadata": {
    "jp-MarkdownHeadingCollapsed": true
   },
   "source": [
    "# tree iterator"
   ]
  },
  {
   "cell_type": "code",
   "execution_count": 131,
   "id": "290010fd-1114-411d-8f55-6a1f788bf47d",
   "metadata": {},
   "outputs": [],
   "source": [
    "import yaml\n",
    "import time\n",
    "import networkx as nx\n",
    "\n",
    "SOURCEPATH = './tree.yaml'\n",
    "DESTPATH = './only_classes.txt'"
   ]
  },
  {
   "cell_type": "code",
   "execution_count": 132,
   "id": "3152765a-48d5-44c4-bb41-f0e6cf170fbc",
   "metadata": {},
   "outputs": [
    {
     "name": "stdout",
     "output_type": "stream",
     "text": [
      "Done in 0.012477636337280273 secs.\n"
     ]
    }
   ],
   "source": [
    "def iterate_over_tree(instance, l):\n",
    "    if isinstance(instance, list):\n",
    "        for i in instance:\n",
    "            iterate_over_tree(i, l)\n",
    "    elif isinstance(instance, dict):\n",
    "        for i in instance.keys():\n",
    "            l.append(i)\n",
    "            iterate_over_tree(instance[i], l)\n",
    "    else:\n",
    "        l.append(instance)\n",
    "\n",
    "\n",
    "if __name__ == '__main__':\n",
    "    start = time.time()\n",
    "    \n",
    "    with open(SOURCEPATH, 'r') as f:\n",
    "        data = yaml.load(f, Loader=yaml.CLoader)\n",
    "\n",
    "    L = []\n",
    "    iterate_over_tree(data, L)\n",
    "\n",
    "    with open(DESTPATH, 'w') as f:\n",
    "        s = ''\n",
    "        for n,classname in enumerate(L):\n",
    "            if n != 0:\n",
    "                s = \"\\n\"\n",
    "            f.write(f\"{s}{classname}\")\n",
    "\n",
    "    print(f\"Done in {time.time() - start} secs.\")"
   ]
  },
  {
   "cell_type": "code",
   "execution_count": 133,
   "id": "c0d4d7c9-2f66-4135-ad1c-10fccdeaeaaf",
   "metadata": {},
   "outputs": [],
   "source": [
    "def create_tree(instance, graph, parent=None):\n",
    "    if isinstance(instance, dict):\n",
    "        for key in instance.keys():\n",
    "            graph.add_node(key)\n",
    "            if parent != key:\n",
    "                graph.add_edge(parent, key)\n",
    "            create_tree(instance.get(key), graph, parent=key)\n",
    "    elif isinstance(instance, list):\n",
    "        for item in instance:\n",
    "            create_tree(item, graph, parent)\n",
    "    elif isinstance(instance, str):\n",
    "        graph.add_node(instance)\n",
    "        if parent != instance:\n",
    "            graph.add_edge(parent, instance)"
   ]
  },
  {
   "cell_type": "code",
   "execution_count": 134,
   "id": "b06df8d1-046f-4a49-a8d5-90f085e49339",
   "metadata": {},
   "outputs": [],
   "source": [
    "with open(SOURCEPATH, 'r') as f:\n",
    "    data = yaml.load(f, Loader=yaml.CLoader)"
   ]
  },
  {
   "cell_type": "code",
   "execution_count": null,
   "id": "033bb382-a417-4794-bc78-1fb162365b17",
   "metadata": {},
   "outputs": [],
   "source": []
  },
  {
   "cell_type": "code",
   "execution_count": null,
   "id": "cb0082a9-0214-4bd2-af96-abfd800a3b85",
   "metadata": {},
   "outputs": [],
   "source": []
  },
  {
   "cell_type": "code",
   "execution_count": 135,
   "id": "9feda8bc-c849-476f-8d2e-57b2ac479c43",
   "metadata": {},
   "outputs": [],
   "source": [
    "G = nx.DiGraph()"
   ]
  },
  {
   "cell_type": "code",
   "execution_count": 136,
   "id": "1c778bb4-e8c0-4611-9463-7578eb284662",
   "metadata": {},
   "outputs": [],
   "source": [
    "create_tree(data, G, 'Object')"
   ]
  },
  {
   "cell_type": "code",
   "execution_count": null,
   "id": "b94952db-9ae6-4f30-b057-b14b2b62a2a7",
   "metadata": {},
   "outputs": [],
   "source": []
  },
  {
   "cell_type": "code",
   "execution_count": null,
   "id": "a481e7f7-139f-47a0-a0a3-f698678ea488",
   "metadata": {},
   "outputs": [],
   "source": []
  },
  {
   "cell_type": "code",
   "execution_count": null,
   "id": "1a192bda-0a3e-44f4-a280-fccace9c9caa",
   "metadata": {},
   "outputs": [],
   "source": []
  },
  {
   "cell_type": "code",
   "execution_count": null,
   "id": "7a7e53da-edd8-432b-b53c-d06c9a7716b2",
   "metadata": {},
   "outputs": [],
   "source": []
  },
  {
   "cell_type": "code",
   "execution_count": null,
   "id": "9a60b0be-c4e8-49e7-9df7-0876d032e171",
   "metadata": {},
   "outputs": [],
   "source": []
  },
  {
   "cell_type": "code",
   "execution_count": 153,
   "id": "4d424403-36eb-4a58-a13d-da0bd186d62d",
   "metadata": {},
   "outputs": [],
   "source": [
    "with open(\"./classes_with_methods.yaml\", 'r') as cm:\n",
    "    methods = yaml.load(cm, Loader=yaml.CLoader)"
   ]
  },
  {
   "cell_type": "code",
   "execution_count": 156,
   "id": "11ebe71d-d58b-463a-a29b-872a7da3ee6f",
   "metadata": {},
   "outputs": [
    {
     "data": {
      "text/plain": [
       "3186"
      ]
     },
     "execution_count": 156,
     "metadata": {},
     "output_type": "execute_result"
    }
   ],
   "source": [
    "len(methods.keys())"
   ]
  },
  {
   "cell_type": "code",
   "execution_count": null,
   "id": "f947cf55-0009-4e2f-b202-ce4a123aa097",
   "metadata": {},
   "outputs": [],
   "source": []
  },
  {
   "cell_type": "code",
   "execution_count": null,
   "id": "c763c59c-c781-44cf-a16c-987a350a1f79",
   "metadata": {},
   "outputs": [],
   "source": []
  },
  {
   "cell_type": "markdown",
   "id": "3dce91fd-06cb-4033-aeef-73652c48a7f4",
   "metadata": {
    "jp-MarkdownHeadingCollapsed": true
   },
   "source": [
    "# get help summary phrases"
   ]
  },
  {
   "cell_type": "markdown",
   "id": "85481bad-ad6f-480b-9671-06be0bbfdbfa",
   "metadata": {},
   "source": [
    "## get help file paths"
   ]
  },
  {
   "cell_type": "code",
   "execution_count": 195,
   "id": "344e39b1-c899-4421-8a1b-42bde75e94a5",
   "metadata": {},
   "outputs": [],
   "source": [
    "from pathlib import Path\n",
    "\n",
    "p = Path('/home/neum/Documenti/SuperCollider/HelpSource')"
   ]
  },
  {
   "cell_type": "code",
   "execution_count": 198,
   "id": "52f3d008-3628-4cdd-9a83-8066714c52f9",
   "metadata": {},
   "outputs": [],
   "source": [
    "def iterate_html(path, coll):\n",
    "    for item in Path.iterdir(path):\n",
    "        if item.is_file():\n",
    "            if item.suffix == '.schelp':\n",
    "                coll.append(item)\n",
    "        else:\n",
    "            iterate_html(item, coll)"
   ]
  },
  {
   "cell_type": "code",
   "execution_count": 200,
   "id": "25792108-559f-41c5-b65b-201e375704b9",
   "metadata": {},
   "outputs": [],
   "source": [
    "L = []\n",
    "iterate_html(p, L)"
   ]
  },
  {
   "cell_type": "markdown",
   "id": "97055a75-d21c-4033-a4b9-68dd554c5a4b",
   "metadata": {
    "jp-MarkdownHeadingCollapsed": true
   },
   "source": [
    "## Get class names"
   ]
  },
  {
   "cell_type": "code",
   "execution_count": 244,
   "id": "c60f6e80-5d51-4f9f-91a5-58879e931417",
   "metadata": {},
   "outputs": [],
   "source": [
    "import json"
   ]
  },
  {
   "cell_type": "code",
   "execution_count": 227,
   "id": "f9a5eb81-af9c-4156-a705-77594b58973f",
   "metadata": {},
   "outputs": [],
   "source": [
    "with open('./only_classes.txt','r') as f:\n",
    "    classnames = [_class.strip(None) for _class in f.readlines()]"
   ]
  },
  {
   "cell_type": "code",
   "execution_count": 245,
   "id": "a1199975-de3b-47eb-a522-26c828163f79",
   "metadata": {},
   "outputs": [],
   "source": [
    "with open('./summaries.json','w') as f:\n",
    "    json.dump(data, f, indent=4)"
   ]
  },
  {
   "cell_type": "code",
   "execution_count": 243,
   "id": "5c0f58bc-4b7a-4ab1-8e16-c1c58fcc8559",
   "metadata": {},
   "outputs": [],
   "source": [
    "data = {}\n",
    "\n",
    "for _class in classnames:\n",
    "    for path in L:\n",
    "        if _class == path.stem:\n",
    "            with open(path) as f:\n",
    "                h = f.readlines()   \n",
    "            for i in h:\n",
    "                if keyword in i:\n",
    "                    summary = i[len(keyword):].strip(None)\n",
    "                    data[_class] = summary.capitalize()"
   ]
  },
  {
   "cell_type": "markdown",
   "id": "0d2d5912-9a71-48e0-9291-e8c7ba804587",
   "metadata": {},
   "source": [
    "# get method names"
   ]
  },
  {
   "cell_type": "code",
   "execution_count": 1,
   "id": "44b5b613-2c30-4c0b-9465-b2102f544d67",
   "metadata": {},
   "outputs": [],
   "source": [
    "import yaml"
   ]
  },
  {
   "cell_type": "code",
   "execution_count": 2,
   "id": "bd322734-420d-4833-8c5c-eb6638eb7af4",
   "metadata": {},
   "outputs": [],
   "source": [
    "PATH = \"./classes_with_methods.yaml\""
   ]
  },
  {
   "cell_type": "code",
   "execution_count": 5,
   "id": "7dfe0e3d-a3dc-4787-85ca-d175d8fb8760",
   "metadata": {},
   "outputs": [],
   "source": [
    "with open(PATH, 'r') as f:\n",
    "    methods = yaml.load(f, Loader=yaml.CLoader)"
   ]
  },
  {
   "cell_type": "code",
   "execution_count": 21,
   "id": "8d09825a-0cdc-4189-883e-fe18e25534f5",
   "metadata": {},
   "outputs": [],
   "source": [
    "_methods = []\n",
    "for method in methods.values():\n",
    "    if method is not None:\n",
    "        _methods.extend(method)"
   ]
  },
  {
   "cell_type": "code",
   "execution_count": 23,
   "id": "6b08ab17-e621-4c83-9378-b9cb3f216a7d",
   "metadata": {},
   "outputs": [
    {
     "data": {
      "text/plain": [
       "13565"
      ]
     },
     "execution_count": 23,
     "metadata": {},
     "output_type": "execute_result"
    }
   ],
   "source": [
    "len(_methods)"
   ]
  },
  {
   "cell_type": "code",
   "execution_count": 24,
   "id": "c1f8db40-7273-4bb4-ae3d-4f95ec41d499",
   "metadata": {},
   "outputs": [],
   "source": [
    "_methods = list(set(_methods))"
   ]
  },
  {
   "cell_type": "code",
   "execution_count": 25,
   "id": "505dbdf8-67ab-4a11-9f10-271e9c89605b",
   "metadata": {},
   "outputs": [
    {
     "data": {
      "text/plain": [
       "5876"
      ]
     },
     "execution_count": 25,
     "metadata": {},
     "output_type": "execute_result"
    }
   ],
   "source": [
    "len(_methods)"
   ]
  },
  {
   "cell_type": "code",
   "execution_count": 27,
   "id": "7eb18e28-bb58-4249-95b5-b0b97aad8095",
   "metadata": {},
   "outputs": [],
   "source": [
    "with open(\"./all_methods.txt\",'w') as f:\n",
    "    for n, method in enumerate(sorted(_methods)):\n",
    "        if n == 0:\n",
    "            f.write(f\"{method}\")\n",
    "        else:\n",
    "            f.write(f\"\\n{method}\")"
   ]
  },
  {
   "cell_type": "code",
   "execution_count": null,
   "id": "d6d2252c-729c-4ab8-b07c-d44e0acdc688",
   "metadata": {},
   "outputs": [],
   "source": []
  },
  {
   "cell_type": "code",
   "execution_count": null,
   "id": "30ad995f-9b0b-4bc8-86a3-14ed829fba39",
   "metadata": {},
   "outputs": [],
   "source": []
  }
 ],
 "metadata": {
  "kernelspec": {
   "display_name": "Python 3 (ipykernel)",
   "language": "python",
   "name": "python3"
  },
  "language_info": {
   "codemirror_mode": {
    "name": "ipython",
    "version": 3
   },
   "file_extension": ".py",
   "mimetype": "text/x-python",
   "name": "python",
   "nbconvert_exporter": "python",
   "pygments_lexer": "ipython3",
   "version": "3.12.7"
  }
 },
 "nbformat": 4,
 "nbformat_minor": 5
}
